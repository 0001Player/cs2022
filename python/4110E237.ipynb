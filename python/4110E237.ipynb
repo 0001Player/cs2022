{
  "nbformat": 4,
  "nbformat_minor": 0,
  "metadata": {
    "colab": {
      "provenance": [],
      "collapsed_sections": []
    },
    "kernelspec": {
      "name": "python3",
      "display_name": "Python 3"
    },
    "language_info": {
      "name": "python"
    }
  },
  "cells": [
    {
      "cell_type": "markdown",
      "source": [
        "# 1102 test"
      ],
      "metadata": {
        "id": "rhf-bcOars9P"
      }
    },
    {
      "cell_type": "markdown",
      "source": [
        "# 1."
      ],
      "metadata": {
        "id": "2Wd5BwGVrJMg"
      }
    },
    {
      "cell_type": "markdown",
      "source": [
        "Which following is the correct way to create a dictionary in Python?\n",
        "\n",
        "   (A) students = { 'name' => 'alice' ;  'score' =>60 }\n",
        "\n",
        "   (B) students = { 'name' = 'alice' ;  'score' =60 }\n",
        "\n",
        "   (C) students = { 'name' : 'alice' ;  'score' : 60 }\n",
        "\n",
        "   (D) students = { 'name' => 'alice' ,  'score' =>60 }\n",
        "\n",
        "   (E) students = { 'name' : 'alice' , 'score' : 60 }\n"
      ],
      "metadata": {
        "id": "q-D13RYJr4v_"
      }
    },
    {
      "cell_type": "markdown",
      "source": [
        "# ANSWER:\n",
        "(E)"
      ],
      "metadata": {
        "id": "I29CYYcNs5_o"
      }
    },
    {
      "cell_type": "code",
      "source": [
        "students = { 'name' : 'alice' , 'score' : 60 }"
      ],
      "metadata": {
        "id": "oGzHH_kqrMGn"
      },
      "execution_count": null,
      "outputs": []
    },
    {
      "cell_type": "markdown",
      "source": [
        "# 2."
      ],
      "metadata": {
        "id": "-blSrdqEtMMv"
      }
    },
    {
      "cell_type": "markdown",
      "source": [
        "What does the following Python program fragment do?\n",
        "\n",
        "   s=0\n",
        "\n",
        "   for i in range (3 , 10) :\n",
        "\n",
        "        s+=i\n",
        "\n",
        "   print (s)\n",
        "\n",
        "   (A) Calculate the sum of 1+2+…+10\n",
        "\n",
        "   (B) Calculate the sum of 1+4+7+10\n",
        "\n",
        "   (C) Calculate the sum of 3+4+5+6+…+9\n",
        "\n",
        "   (D) Calculate the sum of 3+4+5+6+…+10\n",
        "\n",
        "   (E) Calculate the sum of 0+2+4+6+…+10"
      ],
      "metadata": {
        "id": "QhN154e6tSdP"
      }
    },
    {
      "cell_type": "code",
      "source": [
        "3+4+5+6+7+8+9"
      ],
      "metadata": {
        "colab": {
          "base_uri": "https://localhost:8080/"
        },
        "id": "UxoG0Wl4tXW3",
        "outputId": "52eb0d87-2096-4f6a-ef13-bab8de5181b3"
      },
      "execution_count": null,
      "outputs": [
        {
          "output_type": "execute_result",
          "data": {
            "text/plain": [
              "42"
            ]
          },
          "metadata": {},
          "execution_count": 36
        }
      ]
    },
    {
      "cell_type": "markdown",
      "source": [
        "# ANSWER:\n",
        "(C)\n"
      ],
      "metadata": {
        "id": "1_TC3jEj1LBP"
      }
    },
    {
      "cell_type": "markdown",
      "source": [
        "# 3.\n"
      ],
      "metadata": {
        "id": "0zP-mVO-vfJo"
      }
    },
    {
      "cell_type": "markdown",
      "source": [
        "What is the output of this code in Python?\n",
        "\n",
        "      list = [ ' a ' ,  ' b ' ,  ' c ' ,  ' d ' ,  ' e ' ]\n",
        "      print (list [ 1 : ])\n",
        "\n",
        "   (A) [ ]\n",
        "\n",
        "   (B) [ 'b' ]\n",
        "\n",
        "   (C) [ 'a' ,  'b' ]\n",
        "\n",
        "   (D) [ 'b' ,  'c' ,  'd' ,  'e' ]"
      ],
      "metadata": {
        "id": "S-QdCgCtvhpH"
      }
    },
    {
      "cell_type": "code",
      "source": [
        "  list = [ ' a ' ,  ' b ' ,  ' c ' ,  ' d ' ,  ' e ' ]\n",
        "\n",
        "  print (list [ 1 : ])"
      ],
      "metadata": {
        "colab": {
          "base_uri": "https://localhost:8080/"
        },
        "id": "Ty6YK4xsvlG4",
        "outputId": "3ea8a4e2-4175-4bce-92ba-cb97454f3500"
      },
      "execution_count": null,
      "outputs": [
        {
          "output_type": "stream",
          "name": "stdout",
          "text": [
            "[' b ', ' c ', ' d ', ' e ']\n"
          ]
        }
      ]
    },
    {
      "cell_type": "markdown",
      "source": [
        "# ANSWER:\n",
        "(D)\n"
      ],
      "metadata": {
        "id": "70FF8dzXvpA_"
      }
    },
    {
      "cell_type": "markdown",
      "source": [
        "# 4."
      ],
      "metadata": {
        "id": "GLVyG7i_v3in"
      }
    },
    {
      "cell_type": "markdown",
      "source": [
        "What is the output of this code in Python?\n",
        "\n",
        "        L1 = [ ]\n",
        "        L1.append ( [1, [2, 3], 4] )\n",
        "        L1.extend ( [7, 8, 9] )\n",
        "        print(L1[0][1][1] + L1[2] )\n",
        "   (A) 3  (B) 8  (C) 11  (D) 38  (E) None of these"
      ],
      "metadata": {
        "id": "1UmSE-Jkv5WP"
      }
    },
    {
      "cell_type": "code",
      "source": [
        "L1 = [ ]\n",
        "L1.append ( [1, [2, 3], 4] )\n",
        "L1.extend ( [7, 8, 9] )\n",
        "print(L1[0][1][1] + L1[2] )"
      ],
      "metadata": {
        "colab": {
          "base_uri": "https://localhost:8080/"
        },
        "id": "N1hTD8NCv7r-",
        "outputId": "50b79b27-d3f4-489e-c054-89994d8cd1a3"
      },
      "execution_count": null,
      "outputs": [
        {
          "output_type": "stream",
          "name": "stdout",
          "text": [
            "11\n"
          ]
        }
      ]
    },
    {
      "cell_type": "markdown",
      "source": [
        "# ANSWER:\n",
        "(C)"
      ],
      "metadata": {
        "id": "kDZR7jP2wCU3"
      }
    },
    {
      "cell_type": "markdown",
      "source": [
        "# 5."
      ],
      "metadata": {
        "id": "2bmyX27cwKPv"
      }
    },
    {
      "cell_type": "markdown",
      "source": [
        "What is the output of this code in python?\n",
        "\n",
        "        r = lambda q: q * 2\n",
        "        s = lambda q: q * 3\n",
        "        x = 2\n",
        "        x = r (x)\n",
        "        x = s (x)\n",
        "        x = r (x)\n",
        "        print (x)\n",
        "   (A) 2  (B) 4  (C) 6  (D) 12  (E) 24"
      ],
      "metadata": {
        "id": "CL7wnkwxwMV3"
      }
    },
    {
      "cell_type": "code",
      "source": [
        "r = lambda q: q * 2\n",
        "s = lambda q: q * 3\n",
        "x = 2\n",
        "x = r (x)\n",
        "x = s (x)\n",
        "x = r (x)\n",
        "print (x)"
      ],
      "metadata": {
        "colab": {
          "base_uri": "https://localhost:8080/"
        },
        "id": "n2RYJm01wdr2",
        "outputId": "f441ee3c-f491-4dba-c6bd-f4e82ff92ee9"
      },
      "execution_count": null,
      "outputs": [
        {
          "output_type": "stream",
          "name": "stdout",
          "text": [
            "24\n"
          ]
        }
      ]
    },
    {
      "cell_type": "markdown",
      "source": [
        "# ANSWER:\n",
        "(E)"
      ],
      "metadata": {
        "id": "S1eNrgA4wjH_"
      }
    },
    {
      "cell_type": "markdown",
      "source": [
        "# 6."
      ],
      "metadata": {
        "id": "kku3CtTSwoXv"
      }
    },
    {
      "cell_type": "markdown",
      "source": [
        "Which of the following conditions correctly describes the output of this code in  Python?\n",
        "\n",
        "         first = [1 , 2 , 3 , 4 , 5]\n",
        "         second = first\n",
        "         second.append (6)\n",
        "         print (first)\n",
        "         print (second)\n",
        "\n",
        "   (A) first=[1, 2, 3, 4, 5], second=[1, 2, 3, 4, 5, 6]\n",
        "\n",
        "   (B) first=[1, 2, 3, 4, 5, 6], second=[1, 2, 3, 4, 5]\n",
        "\n",
        "   (C) first=[1, 2, 3, 4, 5], second=[1, 2, 3, 4, 5]\n",
        "\n",
        "   (D) first=[1, 2, 3, 4, 5, 6], second=[1, 2, 3, 4, 5, 6]\n",
        "   \n",
        "   (E) None of these"
      ],
      "metadata": {
        "id": "Bg1PdT6cwrBG"
      }
    },
    {
      "cell_type": "code",
      "source": [
        "first = [1 , 2 , 3 , 4 , 5]\n",
        "second = first\n",
        "print (first)\n",
        "print (second)"
      ],
      "metadata": {
        "colab": {
          "base_uri": "https://localhost:8080/"
        },
        "id": "JeimxcAxwvQO",
        "outputId": "1539bc87-fa96-4e90-97f7-175adb930c70"
      },
      "execution_count": null,
      "outputs": [
        {
          "output_type": "stream",
          "name": "stdout",
          "text": [
            "[1, 2, 3, 4, 5]\n",
            "[1, 2, 3, 4, 5]\n"
          ]
        }
      ]
    },
    {
      "cell_type": "markdown",
      "source": [
        "#ANSWER:\n",
        "(C)"
      ],
      "metadata": {
        "id": "DAgFTcKKw4AP"
      }
    },
    {
      "cell_type": "markdown",
      "source": [
        "# 7."
      ],
      "metadata": {
        "id": "PpSJMEDzw8RP"
      }
    },
    {
      "cell_type": "markdown",
      "source": [
        "If the function \n",
        "\n",
        "int volume (int x = 1, int y = 1, int z = 1); \n",
        "\n",
        "is called by the expression volume (7,8), \n",
        "\n",
        "how many default arguments are used?\n",
        "\n",
        "(A) None  (B) One  (C) Two  (D) Three\n",
        "(E) It depends on the runtime environment."
      ],
      "metadata": {
        "id": "19TGHlzDw-52"
      }
    },
    {
      "cell_type": "markdown",
      "source": [
        "# ANSWER:\n",
        "(E)"
      ],
      "metadata": {
        "id": "yvqbDO8l1WV3"
      }
    },
    {
      "cell_type": "markdown",
      "source": [
        "### B"
      ],
      "metadata": {
        "id": "WW23EvGI1Uk_"
      }
    },
    {
      "cell_type": "markdown",
      "source": [
        "# B1 What is the output of this code in Python? explain it."
      ],
      "metadata": {
        "id": "t_hQdjtw15UP"
      }
    },
    {
      "cell_type": "markdown",
      "source": [
        "# primes.py\n",
        "primes = []  # this will contain the primes at the end\n",
        "\n",
        "upto = 100  # the limit, inclusive\n",
        "\n",
        "for n in range(2, upto + 1):\n",
        "\n",
        "    is_prime = True  # flag, new at each iteration of outer for\n",
        "\n",
        "    for divisor in range(2, n):\n",
        "\n",
        "        if n % divisor == 0:\n",
        "\n",
        "            is_prime = False\n",
        "\n",
        "            break\n",
        "\n",
        "    if is_prime:  # check on flag\n",
        "\n",
        "        primes.append(n)\n",
        "        \n",
        "print(primes)"
      ],
      "metadata": {
        "id": "b49s8DTC17RH"
      }
    },
    {
      "cell_type": "markdown",
      "source": [
        "# ANSWER:"
      ],
      "metadata": {
        "id": "h3J8RbDHual6"
      }
    },
    {
      "cell_type": "code",
      "source": [
        "primes = []\n",
        "upto = 100\n",
        "for n in range(2, upto + 1):\n",
        "    is_prime = True\n",
        "    for divisor in range(2, n):\n",
        "        if n % divisor == 0:\n",
        "            is_prime = False\n",
        "            break\n",
        "    if is_prime:\n",
        "        primes.append(n)\n",
        "print(primes)"
      ],
      "metadata": {
        "colab": {
          "base_uri": "https://localhost:8080/"
        },
        "id": "xrR01fcX2et_",
        "outputId": "c0ccef60-2dd0-4374-f68b-edfd1003c2c6"
      },
      "execution_count": null,
      "outputs": [
        {
          "output_type": "stream",
          "name": "stdout",
          "text": [
            "[2, 3, 5, 7, 11, 13, 17, 19, 23, 29, 31, 37, 41, 43, 47, 53, 59, 61, 67, 71, 73, 79, 83, 89, 97]\n"
          ]
        }
      ]
    },
    {
      "cell_type": "markdown",
      "source": [
        "# EXPLANATION:\n",
        "primes.py\n",
        "primes = [] # this will contain the primes at the end                 \n",
        "upto = 100 # the limit, inclusive                                      \n",
        "for n in range(2, upto + 1):                                     \n",
        "is_prime = True  # flag, new at each iteration of outer for    \n",
        "for divisor in range(2, n):                   \n",
        "    if n % divisor == 0:                       \n",
        "         is_prime = False # the remainder of n is not included if it equals 0.                       \n",
        "        break                         \n",
        "if is_prime:  # check on flag                  \n",
        "    primes.append(n) #  It will be appended to or added to the list if either is prime is true or the remainder of n is not equal to 0.                   \n",
        "print(primes)"
      ],
      "metadata": {
        "id": "0Bv-f9teugPR"
      }
    },
    {
      "cell_type": "markdown",
      "source": [
        "# B2 What is the output of this code in Python? explain it."
      ],
      "metadata": {
        "id": "D-Rv13Yp3kYn"
      }
    },
    {
      "cell_type": "markdown",
      "source": [
        " primes.else.py                                         \n",
        "primes = []                                    \n",
        "upto = 100                              \n",
        "for n in range(2, upto + 1):                             \n",
        "    for divisor in range(2, n):                             \n",
        "        if n % divisor == 0:                           \n",
        "            break                              \n",
        "    else:                                  \n",
        "        primes.append(n)                                    \n",
        "print(primes)"
      ],
      "metadata": {
        "id": "hxRu7-M93qln"
      }
    },
    {
      "cell_type": "markdown",
      "source": [
        "# ANSWER:"
      ],
      "metadata": {
        "id": "6FGbvbEYwLd5"
      }
    },
    {
      "cell_type": "code",
      "source": [
        "# primes.else.py\n",
        "primes = []\n",
        "upto = 100\n",
        "for n in range(2, upto + 1):\n",
        "    for divisor in range(2, n):\n",
        "        if n % divisor == 0:\n",
        "            break\n",
        "    else:\n",
        "        primes.append(n)\n",
        "print(primes)"
      ],
      "metadata": {
        "colab": {
          "base_uri": "https://localhost:8080/"
        },
        "id": "8EFdzWXk3kJ9",
        "outputId": "19f7e97f-4fb2-47a5-9be1-83458c8de567"
      },
      "execution_count": null,
      "outputs": [
        {
          "output_type": "stream",
          "name": "stdout",
          "text": [
            "[2, 3, 5, 7, 11, 13, 17, 19, 23, 29, 31, 37, 41, 43, 47, 53, 59, 61, 67, 71, 73, 79, 83, 89, 97]\n"
          ]
        }
      ]
    },
    {
      "cell_type": "markdown",
      "source": [
        "# EXPLANATION:\n",
        " primes.else.py # Will include prime numbers                          \n",
        "primes = [] # limit                                         \n",
        "upto = 100                                    \n",
        "for n in range(2, upto + 1):                                                \n",
        "    for divisor in range(2, n):                                                 \n",
        "        if n % divisor == 0: # the remainder of n is not included if it equals 0.                                             \n",
        "            break                                    \n",
        "    else:                                                 \n",
        "        primes.append(n) # If the remainder of n is not equal to 0, it will be appended to the list or added.                                  \n",
        "print(primes)"
      ],
      "metadata": {
        "id": "3sj6UHlxwSwZ"
      }
    },
    {
      "cell_type": "markdown",
      "source": [
        "# B3.What is the output of this code in Python?explain it."
      ],
      "metadata": {
        "id": "4R0bXtEB4AMG"
      }
    },
    {
      "cell_type": "markdown",
      "source": [
        "cubes = [x**3 for x in range(1,6)]\n",
        "\n",
        "print(cubes)"
      ],
      "metadata": {
        "id": "ZzkW3bVu4Ed3"
      }
    },
    {
      "cell_type": "code",
      "source": [
        "cubes = [x**3 for x in range(1,6)]\n",
        "print(cubes)"
      ],
      "metadata": {
        "colab": {
          "base_uri": "https://localhost:8080/"
        },
        "id": "RH-23e-O4H2W",
        "outputId": "1e36b191-522d-49c3-bacd-82eeab7d0daf"
      },
      "execution_count": null,
      "outputs": [
        {
          "output_type": "stream",
          "name": "stdout",
          "text": [
            "[1, 8, 27, 64, 125]\n"
          ]
        }
      ]
    },
    {
      "cell_type": "markdown",
      "source": [
        "# EXPLANATION:\n",
        "  range (1,6) == > 1,2,3,4,5                    \n",
        "  [x**3 for x range(1,8)] ==> [1**3, 2**3, ...., 5**3]                        \n",
        "  2**3 = 8                                 "
      ],
      "metadata": {
        "id": "LBCOgR0rySCA"
      }
    }
  ]
}