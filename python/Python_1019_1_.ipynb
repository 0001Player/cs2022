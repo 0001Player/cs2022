{
  "nbformat": 4,
  "nbformat_minor": 0,
  "metadata": {
    "colab": {
      "provenance": [],
      "collapsed_sections": []
    },
    "kernelspec": {
      "name": "python3",
      "display_name": "Python 3"
    },
    "language_info": {
      "name": "python"
    }
  },
  "cells": [
    {
      "cell_type": "markdown",
      "source": [
        "#1019 4110E237 JULIUS ERICK SAFLOR"
      ],
      "metadata": {
        "id": "03lecnQMS756"
      }
    },
    {
      "cell_type": "markdown",
      "source": [
        "Python Conditions and If statements\n",
        "\n",
        "Exercise 01: Print \"Hello Japan\" if a is greater than b."
      ],
      "metadata": {
        "id": "gu_qd3sOTP9h"
      }
    },
    {
      "cell_type": "code",
      "execution_count": 1,
      "metadata": {
        "colab": {
          "base_uri": "https://localhost:8080/"
        },
        "id": "eeZVs0iYSijI",
        "outputId": "020bfff6-bf14-41fb-81b2-4f8054f2b088"
      },
      "outputs": [
        {
          "output_type": "stream",
          "name": "stdout",
          "text": [
            "Hello Japan\n"
          ]
        }
      ],
      "source": [
        "a = 19\n",
        "b = 14\n",
        "if  a > b:\n",
        "  print(\"Hello Japan\")"
      ]
    },
    {
      "cell_type": "markdown",
      "source": [
        "Exercise 02: Print \"Hello Japan\" if a is not equal to b."
      ],
      "metadata": {
        "id": "8vbXCnNtTyop"
      }
    },
    {
      "cell_type": "code",
      "source": [
        "a = 19\n",
        "b = 14\n",
        "if  a != b:\n",
        "  print(\"Hello Japan\")"
      ],
      "metadata": {
        "colab": {
          "base_uri": "https://localhost:8080/"
        },
        "id": "WjO4WLVpT1Mq",
        "outputId": "e5e16f75-fcb6-4025-8a4f-b958c7b391d0"
      },
      "execution_count": 2,
      "outputs": [
        {
          "output_type": "stream",
          "name": "stdout",
          "text": [
            "Hello Japan\n"
          ]
        }
      ]
    },
    {
      "cell_type": "markdown",
      "source": [
        "Exercise 03: Print \"Yes\" if a is equal to b, otherwise print \"No\"."
      ],
      "metadata": {
        "id": "vOPaktS7UBFy"
      }
    },
    {
      "cell_type": "code",
      "source": [
        "a = 19\n",
        "b = 14\n",
        "if a == b:\n",
        "  print(\"Yes\")\n",
        "else:\n",
        "  print(\"No\")"
      ],
      "metadata": {
        "colab": {
          "base_uri": "https://localhost:8080/"
        },
        "id": "1YOQP3rNUGRx",
        "outputId": "a9e1361b-b8ed-417d-e2be-2b8527daee38"
      },
      "execution_count": 4,
      "outputs": [
        {
          "output_type": "stream",
          "name": "stdout",
          "text": [
            "No\n"
          ]
        }
      ]
    },
    {
      "cell_type": "markdown",
      "source": [
        "Exercise 04: Print \"1\" if a is equal to b, print \"2\" if a is greater than b, otherwise print \"3\"."
      ],
      "metadata": {
        "id": "QZGo6kGFUJ8Z"
      }
    },
    {
      "cell_type": "code",
      "source": [
        "a = 30\n",
        "b = 20\n",
        "if a == b:\n",
        " print(\"1\")\n",
        "elif a > b:\n",
        " print(\"2\")\n",
        "else:\n",
        " print(\"3\")"
      ],
      "metadata": {
        "colab": {
          "base_uri": "https://localhost:8080/"
        },
        "id": "fXL8rQGBUNRZ",
        "outputId": "4567718e-f675-461e-a2ef-426e17a5df76"
      },
      "execution_count": 5,
      "outputs": [
        {
          "output_type": "stream",
          "name": "stdout",
          "text": [
            "2\n"
          ]
        }
      ]
    },
    {
      "cell_type": "markdown",
      "source": [
        "Exercise 05: Print \"Hello\" if a is equal to b, and c is equal to d."
      ],
      "metadata": {
        "id": "WCKFCJTEUdaq"
      }
    },
    {
      "cell_type": "code",
      "source": [
        "if a == b and c == d:\n",
        "  print(\"Hello\")"
      ],
      "metadata": {
        "id": "GGzWkBW2UePC"
      },
      "execution_count": 6,
      "outputs": []
    },
    {
      "cell_type": "markdown",
      "source": [
        "Exercise 06: Print \"Hello\" if a is equal to b, or if c is equal to d."
      ],
      "metadata": {
        "id": "sVYGfD2tUhlD"
      }
    },
    {
      "cell_type": "code",
      "source": [
        " a = 10\n",
        " b = 20\n",
        " c = 30\n",
        " d = 40\n",
        " if a == b or c == d:\n",
        "  print(\"Hello\")"
      ],
      "metadata": {
        "id": "F08eT_YyUjVx"
      },
      "execution_count": 19,
      "outputs": []
    },
    {
      "cell_type": "markdown",
      "source": [
        "Exercise 07: This example misses indentations to be correct. Insert the missing indentation to make the code correct:"
      ],
      "metadata": {
        "id": "7KiqzyeBUvIZ"
      }
    },
    {
      "cell_type": "code",
      "source": [
        "if 7 > 5:\n",
        "  print(\"Seven is greater than Five!\")"
      ],
      "metadata": {
        "colab": {
          "base_uri": "https://localhost:8080/"
        },
        "id": "EvTdWycQU3Ga",
        "outputId": "5e2d9b02-19e4-4f80-a94e-ee33fd8ec013"
      },
      "execution_count": 8,
      "outputs": [
        {
          "output_type": "stream",
          "name": "stdout",
          "text": [
            "seven is greater than Five!\n"
          ]
        }
      ]
    },
    {
      "cell_type": "markdown",
      "source": [
        "Exercise 08:Use the correct short hand syntax to put the following statement on one line:"
      ],
      "metadata": {
        "id": "T7lzOf3DVNkR"
      }
    },
    {
      "cell_type": "code",
      "source": [
        "if 7 > 2: print(\"Seven is greater than five!\")"
      ],
      "metadata": {
        "colab": {
          "base_uri": "https://localhost:8080/"
        },
        "id": "xzDPRez1VOLp",
        "outputId": "e8bf308d-8288-4d96-9bcf-4c0b47e16679"
      },
      "execution_count": 14,
      "outputs": [
        {
          "output_type": "stream",
          "name": "stdout",
          "text": [
            "Seven is greater than five!\n"
          ]
        }
      ]
    },
    {
      "cell_type": "markdown",
      "source": [
        "Exercise 09: Use the correct short hand syntax to write the following conditional expression in one line:"
      ],
      "metadata": {
        "id": "8VVww5jRVa7Z"
      }
    },
    {
      "cell_type": "markdown",
      "source": [],
      "metadata": {
        "id": "osEohwPsVlDJ"
      }
    },
    {
      "cell_type": "code",
      "source": [
        "print(\"Yes\") if 7 > 5 else print(\"No\")"
      ],
      "metadata": {
        "colab": {
          "base_uri": "https://localhost:8080/"
        },
        "id": "Frbau9mDVdeB",
        "outputId": "45128a2c-ac6e-4930-f992-8dc692681a21"
      },
      "execution_count": 15,
      "outputs": [
        {
          "output_type": "stream",
          "name": "stdout",
          "text": [
            "Yes\n"
          ]
        }
      ]
    }
  ]
}