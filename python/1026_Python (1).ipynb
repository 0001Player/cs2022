{
  "nbformat": 4,
  "nbformat_minor": 0,
  "metadata": {
    "colab": {
      "provenance": []
    },
    "kernelspec": {
      "name": "python3",
      "display_name": "Python 3"
    },
    "language_info": {
      "name": "python"
    }
  },
  "cells": [
    {
      "cell_type": "code",
      "execution_count": 2,
      "metadata": {
        "colab": {
          "base_uri": "https://localhost:8080/"
        },
        "id": "gDL2fvZQYL4_",
        "outputId": "7cc28205-faee-4c9d-c363-1c33e32ef057"
      },
      "outputs": [
        {
          "output_type": "stream",
          "name": "stdout",
          "text": [
            "Sum from 2 to 14 is 90\n",
            "Sum from 12 to 30 is 369\n",
            "Sum from 18 to 38 is 550\n"
          ]
        }
      ],
      "source": [
        "def sum(i1, i2):\n",
        "    result = 0\n",
        "    for i in range(i1,i2):\n",
        "      result += i\n",
        "    return result\n",
        "\n",
        "def main():\n",
        "    print(\"Sum from 2 to 14 is\", sum(2, 14)) \n",
        "    print(\"Sum from 12 to 30 is\", sum(12, 30))\n",
        "    print(\"Sum from 18 to 38 is\", sum(18, 38))\n",
        "\n",
        "main() # Call the main function"
      ]
    }
  ]
}