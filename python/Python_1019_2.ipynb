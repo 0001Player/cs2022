{
  "nbformat": 4,
  "nbformat_minor": 0,
  "metadata": {
    "colab": {
      "provenance": []
    },
    "kernelspec": {
      "name": "python3",
      "display_name": "Python 3"
    },
    "language_info": {
      "name": "python"
    }
  },
  "cells": [
    {
      "cell_type": "markdown",
      "source": [
        "# 1019 4110E237 Julius Erick Saflor"
      ],
      "metadata": {
        "id": "DgaMwjzJXj06"
      }
    },
    {
      "cell_type": "markdown",
      "source": [
        "For Loops\n",
        "\n",
        "Example Print each fruit in a fruit list:"
      ],
      "metadata": {
        "id": "01nS6zuvXugJ"
      }
    },
    {
      "cell_type": "code",
      "source": [
        "fruits = [\"oranges\", \"apples\", \"blueberries\", \"Banana\"]\n",
        "for x in fruits:\n",
        "  print(x)"
      ],
      "metadata": {
        "colab": {
          "base_uri": "https://localhost:8080/"
        },
        "id": "4XnWaVptXmXK",
        "outputId": "48b40cd6-90d9-4957-9a6d-598b71ed9ec0"
      },
      "execution_count": 1,
      "outputs": [
        {
          "output_type": "stream",
          "name": "stdout",
          "text": [
            "oranges\n",
            "apples\n",
            "blueberries\n",
            "Banana\n"
          ]
        }
      ]
    }
  ]
}